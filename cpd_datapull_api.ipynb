{
 "cells": [
  {
   "cell_type": "markdown",
   "id": "497890a0",
   "metadata": {},
   "source": [
    "### CPD Crime Data - Pulling from the API\n",
    "Pulling data from Chattanooga Police Department API - https://www.chattadata.org/Public-Safety/Police-Incident-Data/jvkg-79ss\n",
    "\n",
    "Will be using the requests library to pull data from the api"
   ]
  },
  {
   "cell_type": "code",
   "execution_count": 1,
   "id": "f3f13215",
   "metadata": {},
   "outputs": [],
   "source": [
    "import requests\n",
    "import time\n",
    "import pandas as pd\n",
    "import json"
   ]
  },
  {
   "cell_type": "code",
   "execution_count": 31,
   "id": "12cdc51e",
   "metadata": {},
   "outputs": [],
   "source": [
    "#Test pulling data\n",
    "url = 'https://www.chattadata.org/resource/jvkg-79ss.json?$$app_token=YOUR_TOKEN_HERE&$limit=500000&$offset=5&$order=case_number'\n",
    "cpd = requests.get(url)\n",
    "cpd1 = cpd.json()\n"
   ]
  },
  {
   "cell_type": "code",
   "execution_count": 32,
   "id": "5c54a9c7",
   "metadata": {},
   "outputs": [
    {
     "data": {
      "text/plain": [
       "200"
      ]
     },
     "execution_count": 32,
     "metadata": {},
     "output_type": "execute_result"
    }
   ],
   "source": [
    "cpd.status_code"
   ]
  },
  {
   "cell_type": "code",
   "execution_count": 33,
   "id": "99637a18",
   "metadata": {},
   "outputs": [],
   "source": [
    "#read data\n",
    "cpd_data = pd.DataFrame(cpd1)"
   ]
  },
  {
   "cell_type": "code",
   "execution_count": 34,
   "id": "96248070",
   "metadata": {},
   "outputs": [
    {
     "data": {
      "text/plain": [
       "{'Server': 'nginx', 'Date': 'Tue, 15 Nov 2022 15:35:57 GMT', 'Content-Type': 'application/json;charset=utf-8', 'Transfer-Encoding': 'chunked', 'Connection': 'keep-alive', 'Access-Control-Allow-Origin': '*', 'ETag': '\"YnJhdm8uMzQzMTA5XzE2XzY3MjRYWHZSMTd0VUpsajNGZUdoOVpuYmpNaS1vZWM---gzir2RFb9SJy9cHKlz79Cqf_WujqrzQ--gzip--gzip\"', 'X-SODA2-Fields': '[\"address\",\"city\",\"state\",\"zip\",\"date_incident\",\"jurisdiction\",\"incident_tract\",\"zone\",\"ucr_incident_code\",\"incident_description\",\"incident_type\",\"case_number\",\"case_status\",\"case_status_description\",\"latitude\",\"neighborhood\",\"longitude\",\"location\",\"citydst\"]', 'X-SODA2-Types': '[\"text\",\"text\",\"text\",\"text\",\"floating_timestamp\",\"text\",\"text\",\"text\",\"text\",\"text\",\"text\",\"text\",\"text\",\"text\",\"number\",\"text\",\"number\",\"point\",\"text\"]', 'X-SODA2-Data-Out-Of-Date': 'false', 'X-SODA2-Truth-Last-Modified': 'Tue, 15 Nov 2022 11:03:48 GMT', 'X-SODA2-Secondary-Last-Modified': 'Tue, 15 Nov 2022 11:03:48 GMT', 'Last-Modified': 'Tue, 15 Nov 2022 11:03:48 GMT', 'Vary': 'Accept-Encoding', 'Content-Encoding': 'gzip', 'Age': '2', 'X-Socrata-Region': 'aws-us-east-1-fedramp-prod', 'Strict-Transport-Security': 'max-age=31536000; includeSubDomains', 'X-Socrata-RequestId': 'bdf438e2ce1da13818cddb14b321a144'}"
      ]
     },
     "execution_count": 34,
     "metadata": {},
     "output_type": "execute_result"
    }
   ],
   "source": [
    "cpd.headers"
   ]
  },
  {
   "cell_type": "code",
   "execution_count": 35,
   "id": "efb12745",
   "metadata": {},
   "outputs": [
    {
     "name": "stdout",
     "output_type": "stream",
     "text": [
      "<class 'pandas.core.frame.DataFrame'>\n",
      "RangeIndex: 491753 entries, 0 to 491752\n",
      "Data columns (total 19 columns):\n",
      " #   Column                   Non-Null Count   Dtype \n",
      "---  ------                   --------------   ----- \n",
      " 0   address                  491752 non-null  object\n",
      " 1   city                     491656 non-null  object\n",
      " 2   state                    491753 non-null  object\n",
      " 3   zip                      491656 non-null  object\n",
      " 4   date_incident            491753 non-null  object\n",
      " 5   jurisdiction             491753 non-null  object\n",
      " 6   incident_tract           490272 non-null  object\n",
      " 7   zone                     489960 non-null  object\n",
      " 8   ucr_incident_code        491753 non-null  object\n",
      " 9   incident_description     491220 non-null  object\n",
      " 10  case_number              491753 non-null  object\n",
      " 11  case_status              427021 non-null  object\n",
      " 12  case_status_description  427006 non-null  object\n",
      " 13  latitude                 480305 non-null  object\n",
      " 14  neighborhood             138817 non-null  object\n",
      " 15  longitude                480305 non-null  object\n",
      " 16  location                 480305 non-null  object\n",
      " 17  citydst                  477442 non-null  object\n",
      " 18  incident_type            296667 non-null  object\n",
      "dtypes: object(19)\n",
      "memory usage: 71.3+ MB\n"
     ]
    }
   ],
   "source": [
    "cpd_data.info()"
   ]
  },
  {
   "cell_type": "code",
   "execution_count": 36,
   "id": "9ac415ac",
   "metadata": {},
   "outputs": [],
   "source": [
    "#Filter Data to most 2 recent years\n",
    "cpd_data = cpd_data[(cpd_data['date_incident'] >= '2021-01-01') & (cpd_data['date_incident'] <= '2022-12-31')]\n"
   ]
  },
  {
   "cell_type": "code",
   "execution_count": 37,
   "id": "295460b1",
   "metadata": {
    "scrolled": true
   },
   "outputs": [
    {
     "name": "stdout",
     "output_type": "stream",
     "text": [
      "<class 'pandas.core.frame.DataFrame'>\n",
      "Int64Index: 124682 entries, 17 to 491726\n",
      "Data columns (total 19 columns):\n",
      " #   Column                   Non-Null Count   Dtype \n",
      "---  ------                   --------------   ----- \n",
      " 0   address                  124682 non-null  object\n",
      " 1   city                     124681 non-null  object\n",
      " 2   state                    124682 non-null  object\n",
      " 3   zip                      124681 non-null  object\n",
      " 4   date_incident            124682 non-null  object\n",
      " 5   jurisdiction             124682 non-null  object\n",
      " 6   incident_tract           124676 non-null  object\n",
      " 7   zone                     124676 non-null  object\n",
      " 8   ucr_incident_code        124682 non-null  object\n",
      " 9   incident_description     124608 non-null  object\n",
      " 10  case_number              124682 non-null  object\n",
      " 11  case_status              124671 non-null  object\n",
      " 12  case_status_description  124671 non-null  object\n",
      " 13  latitude                 124682 non-null  object\n",
      " 14  neighborhood             46189 non-null   object\n",
      " 15  longitude                124682 non-null  object\n",
      " 16  location                 124682 non-null  object\n",
      " 17  citydst                  123820 non-null  object\n",
      " 18  incident_type            57211 non-null   object\n",
      "dtypes: object(19)\n",
      "memory usage: 19.0+ MB\n"
     ]
    }
   ],
   "source": [
    "#only getting 1000 records.  Need to use API key to get more data\n",
    "cpd_data.info()"
   ]
  },
  {
   "cell_type": "code",
   "execution_count": 44,
   "id": "257a2063",
   "metadata": {},
   "outputs": [],
   "source": [
    "max_date = cpd_data['date_incident'].max()\n",
    "min_date = cpd_data['date_incident'].min()"
   ]
  },
  {
   "cell_type": "code",
   "execution_count": 45,
   "id": "afae96de",
   "metadata": {},
   "outputs": [
    {
     "name": "stdout",
     "output_type": "stream",
     "text": [
      "2022-11-15T03:28:00.000\n",
      "2021-01-01T00:00:00.000\n"
     ]
    }
   ],
   "source": [
    "print(max_date)\n",
    "print(min_date)"
   ]
  },
  {
   "cell_type": "code",
   "execution_count": 46,
   "id": "89aa44a6",
   "metadata": {},
   "outputs": [],
   "source": [
    "#Save CPD Incident Data to local file for later analysis\n",
    "cpd_data.to_csv('cpd_data.csv', sep='\\t', index=False,header=True)"
   ]
  },
  {
   "cell_type": "code",
   "execution_count": null,
   "id": "95436655",
   "metadata": {},
   "outputs": [],
   "source": []
  }
 ],
 "metadata": {
  "kernelspec": {
   "display_name": "Python 3 (ipykernel)",
   "language": "python",
   "name": "python3"
  },
  "language_info": {
   "codemirror_mode": {
    "name": "ipython",
    "version": 3
   },
   "file_extension": ".py",
   "mimetype": "text/x-python",
   "name": "python",
   "nbconvert_exporter": "python",
   "pygments_lexer": "ipython3",
   "version": "3.9.12"
  }
 },
 "nbformat": 4,
 "nbformat_minor": 5
}
